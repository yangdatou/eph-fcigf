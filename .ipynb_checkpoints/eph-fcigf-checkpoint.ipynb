{
 "cells": [
  {
   "cell_type": "code",
   "execution_count": 1,
   "metadata": {
    "ExecuteTime": {
     "end_time": "2023-08-08T08:39:43.145940Z",
     "start_time": "2023-08-08T08:39:41.292201Z"
    }
   },
   "outputs": [],
   "source": [
    "import os, sys, numpy, scipy\n",
    "sys.path.append('/Users/yangjunjie/work/cc-eph/epcc-hol/')\n",
    "sys.path.append('/Users/yangjunjie/work/cc-eph/cqcpy-master/')\n",
    "\n",
    "import pyscf\n",
    "import epcc.fci\n",
    "\n",
    "from epcc.fci import contract_1e\n",
    "from epcc.fci import contract_ep_rspace as contract_ep\n",
    "from epcc.fci import contract_pp\n",
    "\n",
    "def gen_hop(t, g, w, nelecs=None, max_nph=20, xi=None):\n",
    "    \"\"\"\n",
    "    This function generates the Hamiltonian matrix in the Fock space\n",
    "    \n",
    "    Args:\n",
    "        t: hopping matrix\n",
    "        g: electron-phonon coupling matrix\n",
    "        w: phonon frequency matrix\n",
    "        nelecs: number of electrons\n",
    "        max_nph: maximum number of phonons\n",
    "        xi: phonon cutoff energy\n",
    "    \n",
    "    Returns:\n",
    "        hop: a function that takes a vector and returns the Hamiltonian vector product\n",
    "    \"\"\"\n",
    "    nsite = t.shape[0]\n",
    "    nmode = g.shape[0]\n",
    "\n",
    "    assert t.shape == (nsite, nsite)\n",
    "    assert g.shape == (nmode, nsite, nsite)\n",
    "    assert w.shape == (nmode,)\n",
    "\n",
    "    c_shape = epcc.fci.make_shape(nsite, nelecs, nmode, max_nph, e_only=False)\n",
    "\n",
    "    def hop(v):\n",
    "        c   = v.reshape(c_shape)\n",
    "        hc  = contract_1e(t, c, nsite, nelecs, nmode, max_nph, e_only=False, space=\"r\")\n",
    "        hc += contract_ep(g, c, nsite, nelecs, nmode, max_nph)\n",
    "        hc += contract_pp(w, c, nsite, nelecs, nmode, max_nph, xi=xi)\n",
    "        return hc.reshape(-1)\n",
    "\n",
    "    return hop\n",
    "\n",
    "def build_hm(t, g, w, nelecs=None, max_nph=20, xi=None):\n",
    "    \"\"\"\n",
    "    :param t: hopping matrix\n",
    "    :param g: electron-phonon coupling matrix\n",
    "    :param w: phonon frequency matrix\n",
    "    :param nelecs: \n",
    "    :param max_nph: \n",
    "    :param xi: \n",
    "    :return: \n",
    "    \"\"\"\n",
    "    nsite = t.shape[0]\n",
    "    nmode = g.shape[0]\n",
    "\n",
    "    assert t.shape == (nsite, nsite)\n",
    "    assert g.shape == (nmode, nsite, nsite)\n",
    "    assert w.shape == (nmode, )\n",
    "\n",
    "    c_shape = epcc.fci.make_shape(nsite, nelecs, nmode, max_nph, e_only=False)\n",
    "    v_shape = numpy.prod(c_shape)\n",
    "\n",
    "    hop = gen_hop(t, g, w, nelecs=nelecs, max_nph=max_nph, xi=xi)\n",
    "    hm = [hop(v) for v in numpy.eye(v_shape)]\n",
    "    return numpy.array(hm)"
   ]
  },
  {
   "cell_type": "code",
   "execution_count": 6,
   "metadata": {
    "ExecuteTime": {
     "end_time": "2023-08-08T20:14:24.417616Z",
     "start_time": "2023-08-08T20:14:15.798059Z"
    }
   },
   "outputs": [
    {
     "name": "stdout",
     "output_type": "stream",
     "text": [
      "Holstein model with L = 4, M = 4, N = 1, w = 1.000000, g = 0.100000\n"
     ]
    }
   ],
   "source": [
    "from epcc.hol_model import HolModel\n",
    "\n",
    "nsite = 4\n",
    "nmode = 4\n",
    "nelec = 1\n",
    "\n",
    "m = HolModel(nsite, nmode, nelec, 1.0, 0.1, bc='p', gij=None, ca=numpy.eye(nsite), cb=None)\n",
    "m.na = 1\n",
    "m.nb = 0\n",
    "\n",
    "t  = m.tmatS()\n",
    "w  = numpy.ones([m.M]) * m.w\n",
    "g  = m.gmat[:,:m.L,:m.L].transpose(1,2,0)\n",
    "\n",
    "hm = build_hm(t, g, w, nelecs=nelec, max_nph=4, xi=numpy.zeros(nsite))\n",
    "ene_fci, vec_fci = scipy.linalg.eigh(hm)\n",
    "assert abs(ene_fci[0] - m.fci()[0]) < 1e-8"
   ]
  },
  {
   "cell_type": "code",
   "execution_count": 3,
   "outputs": [
    {
     "data": {
      "text/plain": "(2500, 2500)"
     },
     "execution_count": 3,
     "metadata": {},
     "output_type": "execute_result"
    }
   ],
   "source": [
    "hm.shape"
   ],
   "metadata": {
    "collapsed": false,
    "ExecuteTime": {
     "end_time": "2023-08-08T08:39:54.181902Z",
     "start_time": "2023-08-08T08:39:54.164587Z"
    }
   }
  },
  {
   "cell_type": "code",
   "execution_count": null,
   "outputs": [],
   "source": [],
   "metadata": {
    "collapsed": false
   }
  }
 ],
 "metadata": {
  "kernelspec": {
   "display_name": "pyscf",
   "language": "python",
   "name": "python3"
  },
  "language_info": {
   "codemirror_mode": {
    "name": "ipython",
    "version": 3
   },
   "file_extension": ".py",
   "mimetype": "text/x-python",
   "name": "python",
   "nbconvert_exporter": "python",
   "pygments_lexer": "ipython3",
   "version": "3.11.3"
  },
  "orig_nbformat": 4
 },
 "nbformat": 4,
 "nbformat_minor": 2
}
